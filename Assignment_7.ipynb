{
 "cells": [
  {
   "cell_type": "code",
   "execution_count": 1,
   "id": "08c66bc0",
   "metadata": {},
   "outputs": [
    {
     "name": "stdout",
     "output_type": "stream",
     "text": [
      "Requirement already satisfied: numpy in c:\\users\\asus\\anaconda3\\lib\\site-packages (1.21.5)\n",
      "Note: you may need to restart the kernel to use updated packages.\n"
     ]
    }
   ],
   "source": [
    "# pip install numpy\n"
   ]
  },
  {
   "cell_type": "code",
   "execution_count": 2,
   "id": "ec3aaead",
   "metadata": {},
   "outputs": [
    {
     "name": "stdout",
     "output_type": "stream",
     "text": [
      "[[ 1  2  3  4  5]\n",
      " [ 6  7  8  9 10]]\n"
     ]
    }
   ],
   "source": [
    "# Exercise 1:\n",
    "# Create a numpy array containing the numbers from 1 to 10, and then reshape it to a 2x5 matrix.\n",
    "\n",
    "import numpy as np\n",
    "\n",
    "#numpy array with numbers from 1 to 10\n",
    "array = np.arange(1, 11)\n",
    "\n",
    "#array into a 2x5 matrix\n",
    "matrix = array.reshape(2, 5)\n",
    "print(matrix)\n",
    "\n"
   ]
  },
  {
   "cell_type": "code",
   "execution_count": 3,
   "id": "29dde530",
   "metadata": {},
   "outputs": [
    {
     "name": "stdout",
     "output_type": "stream",
     "text": [
      "[ 6  7  8  9 10 11 12 13 14 15]\n"
     ]
    }
   ],
   "source": [
    "# Exercise 2:\n",
    "# Create a numpy array containing the numbers from 1 to 20, and then extract the elements between the 5th and 15th index.\n",
    "\n",
    "import numpy as np\n",
    "\n",
    "# Create a numpy array with numbers from 1 to 20\n",
    "array = np.arange(1, 21)\n",
    "\n",
    "# Extract elements between the 5th and 15th index\n",
    "extracted_elements = array[5:15]\n",
    "\n",
    "print(extracted_elements)\n"
   ]
  },
  {
   "cell_type": "code",
   "execution_count": 6,
   "id": "5285e1d7",
   "metadata": {},
   "outputs": [
    {
     "name": "stdout",
     "output_type": "stream",
     "text": [
      "apples     3\n",
      "bananas    2\n",
      "oranges    1\n",
      "pears      4\n",
      "dtype: int64\n"
     ]
    }
   ],
   "source": [
    "# Exercise 3:\n",
    "\"\"\"Create a Pandas series with the following data: {'apples': 3, 'bananas': 2, 'oranges': 1}. Then,\n",
    "add a new item to the series with the key 'pears' and the value 4. \"\"\"\n",
    "\n",
    "import pandas as pd\n",
    "data = {'apples': 3, 'bananas': 2, 'oranges': 1}\n",
    "\n",
    "series = pd.Series(data)\n",
    "\n",
    "series['pears'] = 4\n",
    "print(series)"
   ]
  },
  {
   "cell_type": "code",
   "execution_count": 7,
   "id": "d72e8a89",
   "metadata": {},
   "outputs": [
    {
     "name": "stdout",
     "output_type": "stream",
     "text": [
      "     name  age  gender\n",
      "0    Anna   25  Female\n",
      "1   Annie   30  Female\n",
      "2  Dexter   22    Male\n",
      "3   Bobby   28    male\n",
      "4   Sanya   35  Female\n",
      "5   Nancy   27  Female\n",
      "6   Jimmy   29    Male\n",
      "7  George   24    male\n",
      "8   Bunny   26    Male\n",
      "9   Jenny   31  Female\n"
     ]
    }
   ],
   "source": [
    "# Exercise 4:\n",
    "# Create a dataframe with the following columns: name, age, and gender. The dataframe should have 10 rows of data.\n",
    "\n",
    "import pandas as pd\n",
    "\n",
    "data = { 'name': ['Anna', 'Annie', 'Dexter', 'Bobby', 'Sanya', 'Nancy', 'Jimmy', 'George', 'Bunny', 'Jenny'],\n",
    "    'age': [25, 30, 22, 28, 35, 27, 29, 24, 26, 31],\n",
    "    'gender': ['Female', 'Female', 'Male', 'male', 'Female', 'Female', 'Male', 'male', 'Male', 'Female']}\n",
    "\n",
    "# DataFrame\n",
    "df = pd.DataFrame(data)\n",
    "print(df)"
   ]
  },
  {
   "cell_type": "code",
   "execution_count": 8,
   "id": "dabfa18b",
   "metadata": {},
   "outputs": [
    {
     "name": "stdout",
     "output_type": "stream",
     "text": [
      "     name  age  gender  occupation\n",
      "0    Anna   25  Female  Programmer\n",
      "1   Annie   30  Female     Manager\n",
      "2  Dexter   22    Male     Analyst\n",
      "3   Bobby   28    male  Programmer\n",
      "4   Sanya   35  Female     Manager\n",
      "5   Nancy   27  Female     Analyst\n",
      "6   Jimmy   29    Male  Programmer\n",
      "7  George   24    male     Manager\n",
      "8   Bunny   26    Male     Analyst\n",
      "9   Jenny   31  Female  Programmer\n"
     ]
    }
   ],
   "source": [
    "# Exercise 5:\n",
    "\"\"\"Add a new column to the data frame created in question 4, called occupation.\n",
    "The values for this column should be Programmer, Manager, and Analyst, corresponding to the rows in the dataframe.\"\"\"\n",
    "\n",
    "occupations = ['Programmer', 'Manager', 'Analyst', 'Programmer', 'Manager',\n",
    "               'Analyst', 'Programmer', 'Manager', 'Analyst', 'Programmer']\n",
    "\n",
    "# Add the new column to the DataFrame\n",
    "df['occupation'] = occupations\n",
    "\n",
    "# print updated DataFrame\n",
    "print(df)"
   ]
  },
  {
   "cell_type": "code",
   "execution_count": 9,
   "id": "283fcf1a",
   "metadata": {},
   "outputs": [
    {
     "name": "stdout",
     "output_type": "stream",
     "text": [
      "    name  age  gender  occupation\n",
      "1  Annie   30  Female     Manager\n",
      "4  Sanya   35  Female     Manager\n",
      "9  Jenny   31  Female  Programmer\n"
     ]
    }
   ],
   "source": [
    "# Exercise 6:\n",
    "# Select the rows of the dataframe where the age is greater than or equal to 30.\n",
    "\n",
    "# Select rows where age is greater than or equal to 30\n",
    "filtered_df = df[df['age'] >= 30]\n",
    "\n",
    "# Display the filtered DataFrame\n",
    "print(filtered_df)"
   ]
  },
  {
   "cell_type": "code",
   "execution_count": 10,
   "id": "625f15dd",
   "metadata": {},
   "outputs": [
    {
     "name": "stdout",
     "output_type": "stream",
     "text": [
      "     name  age  gender  occupation\n",
      "0    Anna   25  Female  Programmer\n",
      "1   Annie   30  Female     Manager\n",
      "2  Dexter   22    Male     Analyst\n",
      "3   Bobby   28    male  Programmer\n",
      "4   Sanya   35  Female     Manager\n",
      "5   Nancy   27  Female     Analyst\n",
      "6   Jimmy   29    Male  Programmer\n",
      "7  George   24    male     Manager\n",
      "8   Bunny   26    Male     Analyst\n",
      "9   Jenny   31  Female  Programmer\n"
     ]
    }
   ],
   "source": [
    "# Exercise 7:\n",
    "# Convert this dataframe to a csv file and read that csv file, finally display the contents.\n",
    "\n",
    "import pandas as pd\n",
    "\n",
    "# Convert the DataFrame df to a CSV file\n",
    "df.to_csv('dataframe.csv', index=False)\n",
    "\n",
    "new_df = pd.read_csv('dataframe.csv')\n",
    "print(new_df)"
   ]
  },
  {
   "cell_type": "code",
   "execution_count": null,
   "id": "e3cbb643",
   "metadata": {},
   "outputs": [],
   "source": []
  }
 ],
 "metadata": {
  "kernelspec": {
   "display_name": "Python 3 (ipykernel)",
   "language": "python",
   "name": "python3"
  },
  "language_info": {
   "codemirror_mode": {
    "name": "ipython",
    "version": 3
   },
   "file_extension": ".py",
   "mimetype": "text/x-python",
   "name": "python",
   "nbconvert_exporter": "python",
   "pygments_lexer": "ipython3",
   "version": "3.9.13"
  }
 },
 "nbformat": 4,
 "nbformat_minor": 5
}
